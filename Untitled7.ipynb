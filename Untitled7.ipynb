{
  "nbformat": 4,
  "nbformat_minor": 0,
  "metadata": {
    "colab": {
      "provenance": [],
      "include_colab_link": true
    },
    "kernelspec": {
      "name": "python3",
      "display_name": "Python 3"
    },
    "language_info": {
      "name": "python"
    }
  },
  "cells": [
    {
      "cell_type": "markdown",
      "metadata": {
        "id": "view-in-github",
        "colab_type": "text"
      },
      "source": [
        "<a href=\"https://colab.research.google.com/github/dbarbash/Projekt_machine_learning/blob/main/Untitled7.ipynb\" target=\"_parent\"><img src=\"https://colab.research.google.com/assets/colab-badge.svg\" alt=\"Open In Colab\"/></a>"
      ]
    },
    {
      "cell_type": "code",
      "execution_count": null,
      "metadata": {
        "id": "G1kii_qe-FPf"
      },
      "outputs": [],
      "source": [
        "import numpy as np\n",
        "import pandas as pd\n",
        "import matplotlib.pyplot as plt"
      ]
    },
    {
      "cell_type": "code",
      "source": [
        "from google.colab import drive\n",
        "drive.mount('/content/gdrive')\n",
        "train = pd.read_csv('/content/gdrive/MyDrive/sign_mnist_train.csv')\n",
        "test = pd.read_csv('/content/gdrive/MyDrive/sign_mnist_test.csv')"
      ],
      "metadata": {
        "colab": {
          "base_uri": "https://localhost:8080/"
        },
        "id": "aImPGfmbA8vl",
        "outputId": "0b803112-63fd-4b19-fca0-f79a05cac40d"
      },
      "execution_count": null,
      "outputs": [
        {
          "output_type": "stream",
          "name": "stdout",
          "text": [
            "Drive already mounted at /content/gdrive; to attempt to forcibly remount, call drive.mount(\"/content/gdrive\", force_remount=True).\n"
          ]
        }
      ]
    },
    {
      "cell_type": "code",
      "source": [
        "train.head()"
      ],
      "metadata": {
        "colab": {
          "base_uri": "https://localhost:8080/",
          "height": 236
        },
        "cellView": "code",
        "id": "p-5oXHb6A9LT",
        "outputId": "5913e6e5-64cd-4c8e-d5d8-ef3c1aef5565"
      },
      "execution_count": null,
      "outputs": [
        {
          "output_type": "execute_result",
          "data": {
            "text/plain": [
              "   label  pixel1  pixel2  pixel3  pixel4  pixel5  pixel6  pixel7  pixel8  \\\n",
              "0      3     107     118     127     134     139     143     146     150   \n",
              "1      6     155     157     156     156     156     157     156     158   \n",
              "2      2     187     188     188     187     187     186     187     188   \n",
              "3      2     211     211     212     212     211     210     211     210   \n",
              "4     13     164     167     170     172     176     179     180     184   \n",
              "\n",
              "   pixel9  ...  pixel775  pixel776  pixel777  pixel778  pixel779  pixel780  \\\n",
              "0     153  ...       207       207       207       207       206       206   \n",
              "1     158  ...        69       149       128        87        94       163   \n",
              "2     187  ...       202       201       200       199       198       199   \n",
              "3     210  ...       235       234       233       231       230       226   \n",
              "4     185  ...        92       105       105       108       133       163   \n",
              "\n",
              "   pixel781  pixel782  pixel783  pixel784  \n",
              "0       206       204       203       202  \n",
              "1       175       103       135       149  \n",
              "2       198       195       194       195  \n",
              "3       225       222       229       163  \n",
              "4       157       163       164       179  \n",
              "\n",
              "[5 rows x 785 columns]"
            ],
            "text/html": [
              "\n",
              "  <div id=\"df-1db9e58a-f771-4091-be67-7cbf2ce5a42c\">\n",
              "    <div class=\"colab-df-container\">\n",
              "      <div>\n",
              "<style scoped>\n",
              "    .dataframe tbody tr th:only-of-type {\n",
              "        vertical-align: middle;\n",
              "    }\n",
              "\n",
              "    .dataframe tbody tr th {\n",
              "        vertical-align: top;\n",
              "    }\n",
              "\n",
              "    .dataframe thead th {\n",
              "        text-align: right;\n",
              "    }\n",
              "</style>\n",
              "<table border=\"1\" class=\"dataframe\">\n",
              "  <thead>\n",
              "    <tr style=\"text-align: right;\">\n",
              "      <th></th>\n",
              "      <th>label</th>\n",
              "      <th>pixel1</th>\n",
              "      <th>pixel2</th>\n",
              "      <th>pixel3</th>\n",
              "      <th>pixel4</th>\n",
              "      <th>pixel5</th>\n",
              "      <th>pixel6</th>\n",
              "      <th>pixel7</th>\n",
              "      <th>pixel8</th>\n",
              "      <th>pixel9</th>\n",
              "      <th>...</th>\n",
              "      <th>pixel775</th>\n",
              "      <th>pixel776</th>\n",
              "      <th>pixel777</th>\n",
              "      <th>pixel778</th>\n",
              "      <th>pixel779</th>\n",
              "      <th>pixel780</th>\n",
              "      <th>pixel781</th>\n",
              "      <th>pixel782</th>\n",
              "      <th>pixel783</th>\n",
              "      <th>pixel784</th>\n",
              "    </tr>\n",
              "  </thead>\n",
              "  <tbody>\n",
              "    <tr>\n",
              "      <th>0</th>\n",
              "      <td>3</td>\n",
              "      <td>107</td>\n",
              "      <td>118</td>\n",
              "      <td>127</td>\n",
              "      <td>134</td>\n",
              "      <td>139</td>\n",
              "      <td>143</td>\n",
              "      <td>146</td>\n",
              "      <td>150</td>\n",
              "      <td>153</td>\n",
              "      <td>...</td>\n",
              "      <td>207</td>\n",
              "      <td>207</td>\n",
              "      <td>207</td>\n",
              "      <td>207</td>\n",
              "      <td>206</td>\n",
              "      <td>206</td>\n",
              "      <td>206</td>\n",
              "      <td>204</td>\n",
              "      <td>203</td>\n",
              "      <td>202</td>\n",
              "    </tr>\n",
              "    <tr>\n",
              "      <th>1</th>\n",
              "      <td>6</td>\n",
              "      <td>155</td>\n",
              "      <td>157</td>\n",
              "      <td>156</td>\n",
              "      <td>156</td>\n",
              "      <td>156</td>\n",
              "      <td>157</td>\n",
              "      <td>156</td>\n",
              "      <td>158</td>\n",
              "      <td>158</td>\n",
              "      <td>...</td>\n",
              "      <td>69</td>\n",
              "      <td>149</td>\n",
              "      <td>128</td>\n",
              "      <td>87</td>\n",
              "      <td>94</td>\n",
              "      <td>163</td>\n",
              "      <td>175</td>\n",
              "      <td>103</td>\n",
              "      <td>135</td>\n",
              "      <td>149</td>\n",
              "    </tr>\n",
              "    <tr>\n",
              "      <th>2</th>\n",
              "      <td>2</td>\n",
              "      <td>187</td>\n",
              "      <td>188</td>\n",
              "      <td>188</td>\n",
              "      <td>187</td>\n",
              "      <td>187</td>\n",
              "      <td>186</td>\n",
              "      <td>187</td>\n",
              "      <td>188</td>\n",
              "      <td>187</td>\n",
              "      <td>...</td>\n",
              "      <td>202</td>\n",
              "      <td>201</td>\n",
              "      <td>200</td>\n",
              "      <td>199</td>\n",
              "      <td>198</td>\n",
              "      <td>199</td>\n",
              "      <td>198</td>\n",
              "      <td>195</td>\n",
              "      <td>194</td>\n",
              "      <td>195</td>\n",
              "    </tr>\n",
              "    <tr>\n",
              "      <th>3</th>\n",
              "      <td>2</td>\n",
              "      <td>211</td>\n",
              "      <td>211</td>\n",
              "      <td>212</td>\n",
              "      <td>212</td>\n",
              "      <td>211</td>\n",
              "      <td>210</td>\n",
              "      <td>211</td>\n",
              "      <td>210</td>\n",
              "      <td>210</td>\n",
              "      <td>...</td>\n",
              "      <td>235</td>\n",
              "      <td>234</td>\n",
              "      <td>233</td>\n",
              "      <td>231</td>\n",
              "      <td>230</td>\n",
              "      <td>226</td>\n",
              "      <td>225</td>\n",
              "      <td>222</td>\n",
              "      <td>229</td>\n",
              "      <td>163</td>\n",
              "    </tr>\n",
              "    <tr>\n",
              "      <th>4</th>\n",
              "      <td>13</td>\n",
              "      <td>164</td>\n",
              "      <td>167</td>\n",
              "      <td>170</td>\n",
              "      <td>172</td>\n",
              "      <td>176</td>\n",
              "      <td>179</td>\n",
              "      <td>180</td>\n",
              "      <td>184</td>\n",
              "      <td>185</td>\n",
              "      <td>...</td>\n",
              "      <td>92</td>\n",
              "      <td>105</td>\n",
              "      <td>105</td>\n",
              "      <td>108</td>\n",
              "      <td>133</td>\n",
              "      <td>163</td>\n",
              "      <td>157</td>\n",
              "      <td>163</td>\n",
              "      <td>164</td>\n",
              "      <td>179</td>\n",
              "    </tr>\n",
              "  </tbody>\n",
              "</table>\n",
              "<p>5 rows × 785 columns</p>\n",
              "</div>\n",
              "      <button class=\"colab-df-convert\" onclick=\"convertToInteractive('df-1db9e58a-f771-4091-be67-7cbf2ce5a42c')\"\n",
              "              title=\"Convert this dataframe to an interactive table.\"\n",
              "              style=\"display:none;\">\n",
              "        \n",
              "  <svg xmlns=\"http://www.w3.org/2000/svg\" height=\"24px\"viewBox=\"0 0 24 24\"\n",
              "       width=\"24px\">\n",
              "    <path d=\"M0 0h24v24H0V0z\" fill=\"none\"/>\n",
              "    <path d=\"M18.56 5.44l.94 2.06.94-2.06 2.06-.94-2.06-.94-.94-2.06-.94 2.06-2.06.94zm-11 1L8.5 8.5l.94-2.06 2.06-.94-2.06-.94L8.5 2.5l-.94 2.06-2.06.94zm10 10l.94 2.06.94-2.06 2.06-.94-2.06-.94-.94-2.06-.94 2.06-2.06.94z\"/><path d=\"M17.41 7.96l-1.37-1.37c-.4-.4-.92-.59-1.43-.59-.52 0-1.04.2-1.43.59L10.3 9.45l-7.72 7.72c-.78.78-.78 2.05 0 2.83L4 21.41c.39.39.9.59 1.41.59.51 0 1.02-.2 1.41-.59l7.78-7.78 2.81-2.81c.8-.78.8-2.07 0-2.86zM5.41 20L4 18.59l7.72-7.72 1.47 1.35L5.41 20z\"/>\n",
              "  </svg>\n",
              "      </button>\n",
              "      \n",
              "  <style>\n",
              "    .colab-df-container {\n",
              "      display:flex;\n",
              "      flex-wrap:wrap;\n",
              "      gap: 12px;\n",
              "    }\n",
              "\n",
              "    .colab-df-convert {\n",
              "      background-color: #E8F0FE;\n",
              "      border: none;\n",
              "      border-radius: 50%;\n",
              "      cursor: pointer;\n",
              "      display: none;\n",
              "      fill: #1967D2;\n",
              "      height: 32px;\n",
              "      padding: 0 0 0 0;\n",
              "      width: 32px;\n",
              "    }\n",
              "\n",
              "    .colab-df-convert:hover {\n",
              "      background-color: #E2EBFA;\n",
              "      box-shadow: 0px 1px 2px rgba(60, 64, 67, 0.3), 0px 1px 3px 1px rgba(60, 64, 67, 0.15);\n",
              "      fill: #174EA6;\n",
              "    }\n",
              "\n",
              "    [theme=dark] .colab-df-convert {\n",
              "      background-color: #3B4455;\n",
              "      fill: #D2E3FC;\n",
              "    }\n",
              "\n",
              "    [theme=dark] .colab-df-convert:hover {\n",
              "      background-color: #434B5C;\n",
              "      box-shadow: 0px 1px 3px 1px rgba(0, 0, 0, 0.15);\n",
              "      filter: drop-shadow(0px 1px 2px rgba(0, 0, 0, 0.3));\n",
              "      fill: #FFFFFF;\n",
              "    }\n",
              "  </style>\n",
              "\n",
              "      <script>\n",
              "        const buttonEl =\n",
              "          document.querySelector('#df-1db9e58a-f771-4091-be67-7cbf2ce5a42c button.colab-df-convert');\n",
              "        buttonEl.style.display =\n",
              "          google.colab.kernel.accessAllowed ? 'block' : 'none';\n",
              "\n",
              "        async function convertToInteractive(key) {\n",
              "          const element = document.querySelector('#df-1db9e58a-f771-4091-be67-7cbf2ce5a42c');\n",
              "          const dataTable =\n",
              "            await google.colab.kernel.invokeFunction('convertToInteractive',\n",
              "                                                     [key], {});\n",
              "          if (!dataTable) return;\n",
              "\n",
              "          const docLinkHtml = 'Like what you see? Visit the ' +\n",
              "            '<a target=\"_blank\" href=https://colab.research.google.com/notebooks/data_table.ipynb>data table notebook</a>'\n",
              "            + ' to learn more about interactive tables.';\n",
              "          element.innerHTML = '';\n",
              "          dataTable['output_type'] = 'display_data';\n",
              "          await google.colab.output.renderOutput(dataTable, element);\n",
              "          const docLink = document.createElement('div');\n",
              "          docLink.innerHTML = docLinkHtml;\n",
              "          element.appendChild(docLink);\n",
              "        }\n",
              "      </script>\n",
              "    </div>\n",
              "  </div>\n",
              "  "
            ]
          },
          "metadata": {},
          "execution_count": 57
        }
      ]
    },
    {
      "cell_type": "code",
      "source": [
        "train.shape"
      ],
      "metadata": {
        "colab": {
          "base_uri": "https://localhost:8080/"
        },
        "id": "VOLd_Y52GKEj",
        "outputId": "cd6d4554-c420-4ce4-eacb-d1b0965549b5"
      },
      "execution_count": null,
      "outputs": [
        {
          "output_type": "execute_result",
          "data": {
            "text/plain": [
              "(27455, 785)"
            ]
          },
          "metadata": {},
          "execution_count": 35
        }
      ]
    },
    {
      "cell_type": "code",
      "source": [
        "labels = train['label'].values\n",
        "unique_val = np.array(labels)\n",
        "np.unique(unique_val)"
      ],
      "metadata": {
        "colab": {
          "base_uri": "https://localhost:8080/"
        },
        "id": "KE42AsEsA-qU",
        "outputId": "d22d72a1-06e5-4415-d280-e80cd4e973b5"
      },
      "execution_count": null,
      "outputs": [
        {
          "output_type": "execute_result",
          "data": {
            "text/plain": [
              "array([ 0,  1,  2,  3,  4,  5,  6,  7,  8, 10, 11, 12, 13, 14, 15, 16, 17,\n",
              "       18, 19, 20, 21, 22, 23, 24])"
            ]
          },
          "metadata": {},
          "execution_count": 36
        }
      ]
    },
    {
      "cell_type": "code",
      "source": [
        "train.drop('label', axis = 1, inplace = True)\n",
        "images = train.values\n",
        "images = np.array([np.reshape(i, (28, 28)) for i in images])\n",
        "images = np.array([i.flatten() for i in images])"
      ],
      "metadata": {
        "id": "FL0fFeV8BHbT"
      },
      "execution_count": null,
      "outputs": []
    },
    {
      "cell_type": "code",
      "source": [
        "from sklearn.preprocessing import LabelBinarizer\n",
        "label_binrizer = LabelBinarizer()\n",
        "labels = label_binrizer.fit_transform(labels)"
      ],
      "metadata": {
        "id": "s3j2NSXsBPqL"
      },
      "execution_count": null,
      "outputs": []
    },
    {
      "cell_type": "code",
      "source": [
        "labels"
      ],
      "metadata": {
        "colab": {
          "base_uri": "https://localhost:8080/"
        },
        "id": "dD1pg205BP6s",
        "outputId": "326c1a25-3c42-414d-d46b-ab512a720e49"
      },
      "execution_count": null,
      "outputs": [
        {
          "output_type": "execute_result",
          "data": {
            "text/plain": [
              "array([[0, 0, 0, ..., 0, 0, 0],\n",
              "       [0, 0, 0, ..., 0, 0, 0],\n",
              "       [0, 0, 1, ..., 0, 0, 0],\n",
              "       ...,\n",
              "       [0, 0, 0, ..., 0, 0, 0],\n",
              "       [0, 0, 0, ..., 0, 0, 0],\n",
              "       [0, 0, 0, ..., 0, 1, 0]])"
            ]
          },
          "metadata": {},
          "execution_count": 39
        }
      ]
    },
    {
      "cell_type": "code",
      "source": [
        "plt.imshow(images[0].reshape(28,28))"
      ],
      "metadata": {
        "colab": {
          "base_uri": "https://localhost:8080/",
          "height": 282
        },
        "id": "Xc7epk-WBTHL",
        "outputId": "a52b54c5-bc7f-4f66-c4d5-f047c25a3eea"
      },
      "execution_count": null,
      "outputs": [
        {
          "output_type": "execute_result",
          "data": {
            "text/plain": [
              "<matplotlib.image.AxesImage at 0x7fccc1ea99a0>"
            ]
          },
          "metadata": {},
          "execution_count": 40
        },
        {
          "output_type": "display_data",
          "data": {
            "text/plain": [
              "<Figure size 432x288 with 1 Axes>"
            ],
            "image/png": "[encoded data removed]"
          },
          "metadata": {
            "needs_background": "light"
          }
        }
      ]
    },
    {
      "cell_type": "code",
      "source": [
        "from sklearn.model_selection import train_test_split"
      ],
      "metadata": {
        "id": "Sz_2oETyBUhz"
      },
      "execution_count": null,
      "outputs": []
    },
    {
      "cell_type": "code",
      "source": [
        "x_train, x_test, y_train, y_test = train_test_split(images, labels, test_size = 0.3, random_state = 101)"
      ],
      "metadata": {
        "id": "Ruc2VJyrBYm0"
      },
      "execution_count": null,
      "outputs": []
    },
    {
      "cell_type": "code",
      "source": [
        "import keras\n",
        "from keras.models import Sequential\n",
        "from keras.layers import Dense, Conv2D, MaxPooling2D, Flatten, Dropout"
      ],
      "metadata": {
        "id": "5Fpv6GtyBY9T"
      },
      "execution_count": null,
      "outputs": []
    },
    {
      "cell_type": "code",
      "source": [
        "batch_size = 128\n",
        "num_classes = 24\n",
        "epochs = 50"
      ],
      "metadata": {
        "id": "x7IEdZ92Bbpk"
      },
      "execution_count": null,
      "outputs": []
    },
    {
      "cell_type": "code",
      "source": [
        "x_train = x_train / 255\n",
        "x_test = x_test / 255\n",
        "x_train = x_train.reshape(x_train.shape[0], 28, 28, 1)\n",
        "x_test = x_test.reshape(x_test.shape[0], 28, 28, 1)"
      ],
      "metadata": {
        "id": "hZvbNtXiBc8b"
      },
      "execution_count": null,
      "outputs": []
    },
    {
      "cell_type": "code",
      "source": [
        "plt.imshow(x_train[0].reshape(28,28))"
      ],
      "metadata": {
        "colab": {
          "base_uri": "https://localhost:8080/",
          "height": 282
        },
        "id": "J1af4AYfBd18",
        "outputId": "9ac28699-a0ad-4402-bfba-4ba762674252"
      },
      "execution_count": null,
      "outputs": [
        {
          "output_type": "execute_result",
          "data": {
            "text/plain": [
              "<matplotlib.image.AxesImage at 0x7fccc1fbb490>"
            ]
          },
          "metadata": {},
          "execution_count": 46
        },
        {
          "output_type": "display_data",
          "data": {
            "text/plain": [
              "<Figure size 432x288 with 1 Axes>"
            ],
            "image/png": "[encoded data removed]"
          },
          "metadata": {
            "needs_background": "light"
          }
        }
      ]
    },
    {
      "cell_type": "code",
      "source": [
        "model = Sequential()\n",
        "model.add(Conv2D(64, kernel_size=(3,3), activation = 'relu',\n",
        "                 input_shape=(28, 28 ,1) ))\n",
        "model.add(MaxPooling2D(pool_size = (2, 2)))\n",
        "\n",
        "model.add(Conv2D(64, kernel_size = (3, 3),\n",
        "                 activation = 'relu'))\n",
        "model.add(MaxPooling2D(pool_size = (2, 2)))\n",
        "\n",
        "model.add(Conv2D(64, kernel_size = (3, 3),\n",
        "                 activation = 'relu'))\n",
        "model.add(MaxPooling2D(pool_size = (2, 2)))\n",
        "\n",
        "model.add(Flatten())\n",
        "model.add(Dense(128, activation = 'relu'))\n",
        "model.add(Dropout(0.20))\n",
        "\n",
        "model.add(Dense(num_classes, activation = 'softmax'))"
      ],
      "metadata": {
        "id": "K72JncqRBkOV"
      },
      "execution_count": null,
      "outputs": []
    },
    {
      "cell_type": "code",
      "source": [
        "model.compile(loss = keras.losses.categorical_crossentropy, \n",
        "              optimizer=keras.optimizers.Adam(),\n",
        "              metrics=['accuracy'])"
      ],
      "metadata": {
        "id": "7B7YISUbBlZL"
      },
      "execution_count": null,
      "outputs": []
    },
    {
      "cell_type": "code",
      "source": [
        "history = model.fit(x_train, y_train, validation_data = (x_test, y_test), \n",
        "                    epochs=epochs, batch_size=batch_size)"
      ],
      "metadata": {
        "colab": {
          "base_uri": "https://localhost:8080/"
        },
        "id": "YHCtS9dWBmb7",
        "outputId": "ce28ef11-993d-41dc-f82f-f1a8bbec5ab7"
      },
      "execution_count": null,
      "outputs": [
        {
          "output_type": "stream",
          "name": "stdout",
          "text": [
            "Epoch 1/50\n",
            "151/151 [==============================] - 36s 232ms/step - loss: 2.8091 - accuracy: 0.1442 - val_loss: 1.9378 - val_accuracy: 0.3967\n",
            "Epoch 2/50\n",
            "151/151 [==============================] - 31s 203ms/step - loss: 1.4684 - accuracy: 0.5162 - val_loss: 0.9849 - val_accuracy: 0.6691\n",
            "Epoch 3/50\n",
            "151/151 [==============================] - 31s 203ms/step - loss: 0.8679 - accuracy: 0.7021 - val_loss: 0.6812 - val_accuracy: 0.7722\n",
            "Epoch 4/50\n",
            "151/151 [==============================] - 33s 220ms/step - loss: 0.6077 - accuracy: 0.7939 - val_loss: 0.4129 - val_accuracy: 0.8635\n",
            "Epoch 5/50\n",
            "151/151 [==============================] - 32s 211ms/step - loss: 0.4355 - accuracy: 0.8475 - val_loss: 0.2964 - val_accuracy: 0.9098\n",
            "Epoch 6/50\n",
            "151/151 [==============================] - 30s 201ms/step - loss: 0.3398 - accuracy: 0.8837 - val_loss: 0.2563 - val_accuracy: 0.9110\n",
            "Epoch 7/50\n",
            "151/151 [==============================] - 30s 201ms/step - loss: 0.2528 - accuracy: 0.9137 - val_loss: 0.1736 - val_accuracy: 0.9468\n",
            "Epoch 8/50\n",
            "151/151 [==============================] - 31s 202ms/step - loss: 0.1930 - accuracy: 0.9354 - val_loss: 0.1171 - val_accuracy: 0.9665\n",
            "Epoch 9/50\n",
            "151/151 [==============================] - 31s 203ms/step - loss: 0.1609 - accuracy: 0.9472 - val_loss: 0.0807 - val_accuracy: 0.9809\n",
            "Epoch 10/50\n",
            "151/151 [==============================] - 33s 218ms/step - loss: 0.1212 - accuracy: 0.9609 - val_loss: 0.0680 - val_accuracy: 0.9857\n",
            "Epoch 11/50\n",
            "151/151 [==============================] - 31s 206ms/step - loss: 0.0964 - accuracy: 0.9694 - val_loss: 0.0615 - val_accuracy: 0.9839\n",
            "Epoch 12/50\n",
            "151/151 [==============================] - 32s 210ms/step - loss: 0.0749 - accuracy: 0.9775 - val_loss: 0.0292 - val_accuracy: 0.9966\n",
            "Epoch 13/50\n",
            "151/151 [==============================] - 31s 206ms/step - loss: 0.0647 - accuracy: 0.9812 - val_loss: 0.0331 - val_accuracy: 0.9910\n",
            "Epoch 14/50\n",
            "151/151 [==============================] - 31s 204ms/step - loss: 0.0521 - accuracy: 0.9854 - val_loss: 0.0216 - val_accuracy: 0.9965\n",
            "Epoch 15/50\n",
            "151/151 [==============================] - 31s 203ms/step - loss: 0.0495 - accuracy: 0.9851 - val_loss: 0.0159 - val_accuracy: 0.9983\n",
            "Epoch 16/50\n",
            "151/151 [==============================] - 31s 205ms/step - loss: 0.0413 - accuracy: 0.9880 - val_loss: 0.0126 - val_accuracy: 0.9994\n",
            "Epoch 17/50\n",
            "151/151 [==============================] - 33s 218ms/step - loss: 0.0325 - accuracy: 0.9915 - val_loss: 0.0139 - val_accuracy: 0.9981\n",
            "Epoch 18/50\n",
            "151/151 [==============================] - 31s 204ms/step - loss: 0.0271 - accuracy: 0.9925 - val_loss: 0.0075 - val_accuracy: 0.9992\n",
            "Epoch 19/50\n",
            "151/151 [==============================] - 31s 203ms/step - loss: 0.0299 - accuracy: 0.9917 - val_loss: 0.0259 - val_accuracy: 0.9922\n",
            "Epoch 20/50\n",
            "151/151 [==============================] - 31s 202ms/step - loss: 0.0295 - accuracy: 0.9914 - val_loss: 0.0066 - val_accuracy: 0.9994\n",
            "Epoch 21/50\n",
            "151/151 [==============================] - 31s 202ms/step - loss: 0.0232 - accuracy: 0.9938 - val_loss: 0.0041 - val_accuracy: 0.9994\n",
            "Epoch 22/50\n",
            "151/151 [==============================] - 30s 202ms/step - loss: 0.0189 - accuracy: 0.9946 - val_loss: 0.0046 - val_accuracy: 0.9999\n",
            "Epoch 23/50\n",
            "151/151 [==============================] - 30s 202ms/step - loss: 0.0197 - accuracy: 0.9945 - val_loss: 0.0042 - val_accuracy: 0.9998\n",
            "Epoch 24/50\n",
            "151/151 [==============================] - 33s 216ms/step - loss: 0.0205 - accuracy: 0.9942 - val_loss: 0.0041 - val_accuracy: 0.9996\n",
            "Epoch 25/50\n",
            "151/151 [==============================] - 30s 202ms/step - loss: 0.0183 - accuracy: 0.9945 - val_loss: 0.0053 - val_accuracy: 0.9993\n",
            "Epoch 26/50\n",
            "151/151 [==============================] - 31s 202ms/step - loss: 0.0149 - accuracy: 0.9961 - val_loss: 0.0046 - val_accuracy: 0.9992\n",
            "Epoch 27/50\n",
            "151/151 [==============================] - 31s 202ms/step - loss: 0.0146 - accuracy: 0.9960 - val_loss: 0.0049 - val_accuracy: 0.9992\n",
            "Epoch 28/50\n",
            "151/151 [==============================] - 30s 202ms/step - loss: 0.0145 - accuracy: 0.9955 - val_loss: 0.0063 - val_accuracy: 0.9987\n",
            "Epoch 29/50\n",
            "151/151 [==============================] - 30s 201ms/step - loss: 0.0225 - accuracy: 0.9931 - val_loss: 0.0040 - val_accuracy: 0.9989\n",
            "Epoch 30/50\n",
            "151/151 [==============================] - 33s 217ms/step - loss: 0.0131 - accuracy: 0.9966 - val_loss: 0.0021 - val_accuracy: 0.9998\n",
            "Epoch 31/50\n",
            "151/151 [==============================] - 30s 201ms/step - loss: 0.0129 - accuracy: 0.9958 - val_loss: 0.0068 - val_accuracy: 0.9988\n",
            "Epoch 32/50\n",
            "151/151 [==============================] - 30s 201ms/step - loss: 0.0284 - accuracy: 0.9912 - val_loss: 0.0023 - val_accuracy: 0.9998\n",
            "Epoch 33/50\n",
            "151/151 [==============================] - 30s 201ms/step - loss: 0.0081 - accuracy: 0.9978 - val_loss: 7.8818e-04 - val_accuracy: 0.9998\n",
            "Epoch 34/50\n",
            "151/151 [==============================] - 30s 201ms/step - loss: 0.0086 - accuracy: 0.9974 - val_loss: 0.0014 - val_accuracy: 0.9999\n",
            "Epoch 35/50\n",
            "151/151 [==============================] - 30s 202ms/step - loss: 0.0066 - accuracy: 0.9984 - val_loss: 0.0032 - val_accuracy: 0.9994\n",
            "Epoch 36/50\n",
            "151/151 [==============================] - 30s 201ms/step - loss: 0.0117 - accuracy: 0.9962 - val_loss: 0.0019 - val_accuracy: 0.9999\n",
            "Epoch 37/50\n",
            "151/151 [==============================] - 33s 216ms/step - loss: 0.0079 - accuracy: 0.9975 - val_loss: 9.4775e-04 - val_accuracy: 1.0000\n",
            "Epoch 38/50\n",
            "151/151 [==============================] - 30s 201ms/step - loss: 0.0115 - accuracy: 0.9962 - val_loss: 0.0016 - val_accuracy: 0.9994\n",
            "Epoch 39/50\n",
            "151/151 [==============================] - 31s 203ms/step - loss: 0.0061 - accuracy: 0.9980 - val_loss: 0.0031 - val_accuracy: 0.9992\n",
            "Epoch 40/50\n",
            "151/151 [==============================] - 31s 203ms/step - loss: 0.0247 - accuracy: 0.9930 - val_loss: 0.0029 - val_accuracy: 0.9992\n",
            "Epoch 41/50\n",
            "151/151 [==============================] - 30s 202ms/step - loss: 0.0073 - accuracy: 0.9980 - val_loss: 0.0042 - val_accuracy: 0.9990\n",
            "Epoch 42/50\n",
            "151/151 [==============================] - 30s 201ms/step - loss: 0.0039 - accuracy: 0.9992 - val_loss: 0.0014 - val_accuracy: 0.9998\n",
            "Epoch 43/50\n",
            "151/151 [==============================] - 31s 207ms/step - loss: 0.0104 - accuracy: 0.9966 - val_loss: 0.0026 - val_accuracy: 0.9990\n",
            "Epoch 44/50\n",
            "151/151 [==============================] - 33s 218ms/step - loss: 0.0064 - accuracy: 0.9980 - val_loss: 0.0013 - val_accuracy: 0.9995\n",
            "Epoch 45/50\n",
            "151/151 [==============================] - 31s 202ms/step - loss: 0.0051 - accuracy: 0.9986 - val_loss: 5.1017e-04 - val_accuracy: 0.9999\n",
            "Epoch 46/50\n",
            "151/151 [==============================] - 31s 202ms/step - loss: 0.0075 - accuracy: 0.9977 - val_loss: 0.0082 - val_accuracy: 0.9975\n",
            "Epoch 47/50\n",
            "151/151 [==============================] - 31s 202ms/step - loss: 0.0179 - accuracy: 0.9937 - val_loss: 0.0047 - val_accuracy: 0.9987\n",
            "Epoch 48/50\n",
            "151/151 [==============================] - 31s 203ms/step - loss: 0.0090 - accuracy: 0.9972 - val_loss: 0.0039 - val_accuracy: 0.9988\n",
            "Epoch 49/50\n",
            "151/151 [==============================] - 31s 203ms/step - loss: 0.0090 - accuracy: 0.9976 - val_loss: 0.0123 - val_accuracy: 0.9961\n",
            "Epoch 50/50\n",
            "151/151 [==============================] - 33s 217ms/step - loss: 0.0054 - accuracy: 0.9983 - val_loss: 0.0012 - val_accuracy: 0.9996\n"
          ]
        }
      ]
    },
    {
      "cell_type": "code",
      "source": [
        "plt.plot(history.history['accuracy'])\n",
        "plt.plot(history.history['val_accuracy'])\n",
        "plt.title(\"Accuracy\")\n",
        "plt.xlabel('epoch')\n",
        "plt.ylabel('accuracy')\n",
        "plt.legend(['train','test'])\n",
        "\n",
        "plt.show()"
      ],
      "metadata": {
        "colab": {
          "base_uri": "https://localhost:8080/",
          "height": 295
        },
        "id": "MJSuqCCfBpMb",
        "outputId": "2685f9de-bbd2-4976-bfb7-f564e3de1281"
      },
      "execution_count": null,
      "outputs": [
        {
          "output_type": "display_data",
          "data": {
            "text/plain": [
              "<Figure size 432x288 with 1 Axes>"
            ],
            "image/png": "[encoded data removed]"
          },
          "metadata": {
            "needs_background": "light"
          }
        }
      ]
    },
    {
      "cell_type": "code",
      "source": [
        "test_labels = test['label']\n",
        "test.drop('label', axis = 1, inplace = True)\n",
        "test_images = test.values\n",
        "test_images = np.array([np.reshape(i, (28, 28)) for i in test_images])\n",
        "test_images = np.array([i.flatten() for i in test_images])\n",
        "test_labels = label_binrizer.fit_transform(test_labels)\n",
        "test_images = test_images.reshape(test_images.shape[0], 28, 28, 1)\n",
        "test_images.shape"
      ],
      "metadata": {
        "colab": {
          "base_uri": "https://localhost:8080/"
        },
        "id": "6-1SWsFkBrNC",
        "outputId": "de3736c4-8b7c-46de-cd9a-123a53722647"
      },
      "execution_count": null,
      "outputs": [
        {
          "output_type": "execute_result",
          "data": {
            "text/plain": [
              "(7172, 28, 28, 1)"
            ]
          },
          "metadata": {},
          "execution_count": 52
        }
      ]
    },
    {
      "cell_type": "code",
      "source": [
        "y_pred = model.predict(test_images)\n",
        "from sklearn.metrics import accuracy_score\n",
        "accuracy_score(test_labels, y_pred.round())"
      ],
      "metadata": {
        "colab": {
          "base_uri": "https://localhost:8080/"
        },
        "id": "hhvZbDWiBxPL",
        "outputId": "6210e96e-261a-4603-f28a-9b8445f2995f"
      },
      "execution_count": null,
      "outputs": [
        {
          "output_type": "stream",
          "name": "stdout",
          "text": [
            "225/225 [==============================] - 4s 17ms/step\n"
          ]
        },
        {
          "output_type": "execute_result",
          "data": {
            "text/plain": [
              "0.810234244283324"
            ]
          },
          "metadata": {},
          "execution_count": 53
        }
      ]
    },
    {
      "cell_type": "code",
      "source": [],
      "metadata": {
        "id": "f98LeDjaBz3i"
      },
      "execution_count": null,
      "outputs": []
    }
  ]
}